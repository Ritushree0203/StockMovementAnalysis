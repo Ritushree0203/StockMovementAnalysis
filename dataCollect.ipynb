{
 "cells": [
  {
   "cell_type": "code",
   "execution_count": 1,
   "metadata": {},
   "outputs": [
    {
     "name": "stdout",
     "output_type": "stream",
     "text": [
      "Defaulting to user installation because normal site-packages is not writeable\n",
      "Requirement already satisfied: praw in /Users/ritushreedey/Library/Python/3.9/lib/python/site-packages (7.7.1)\n",
      "Requirement already satisfied: prawcore<3,>=2.1 in /Users/ritushreedey/Library/Python/3.9/lib/python/site-packages (from praw) (2.4.0)\n",
      "Requirement already satisfied: update-checker>=0.18 in /Users/ritushreedey/Library/Python/3.9/lib/python/site-packages (from praw) (0.18.0)\n",
      "Requirement already satisfied: websocket-client>=0.54.0 in /Users/ritushreedey/Library/Python/3.9/lib/python/site-packages (from praw) (1.8.0)\n",
      "Requirement already satisfied: requests<3.0,>=2.6.0 in /Users/ritushreedey/Library/Python/3.9/lib/python/site-packages (from prawcore<3,>=2.1->praw) (2.32.3)\n",
      "Requirement already satisfied: charset-normalizer<4,>=2 in /Users/ritushreedey/Library/Python/3.9/lib/python/site-packages (from requests<3.0,>=2.6.0->prawcore<3,>=2.1->praw) (3.3.2)\n",
      "Requirement already satisfied: idna<4,>=2.5 in /Users/ritushreedey/Library/Python/3.9/lib/python/site-packages (from requests<3.0,>=2.6.0->prawcore<3,>=2.1->praw) (3.7)\n",
      "Requirement already satisfied: urllib3<3,>=1.21.1 in /Users/ritushreedey/Library/Python/3.9/lib/python/site-packages (from requests<3.0,>=2.6.0->prawcore<3,>=2.1->praw) (2.2.2)\n",
      "Requirement already satisfied: certifi>=2017.4.17 in /Users/ritushreedey/Library/Python/3.9/lib/python/site-packages (from requests<3.0,>=2.6.0->prawcore<3,>=2.1->praw) (2024.7.4)\n",
      "Note: you may need to restart the kernel to use updated packages.\n"
     ]
    }
   ],
   "source": [
    "pip install praw"
   ]
  },
  {
   "cell_type": "code",
   "execution_count": 1,
   "metadata": {},
   "outputs": [
    {
     "name": "stderr",
     "output_type": "stream",
     "text": [
      "/Users/ritushreedey/Library/Python/3.9/lib/python/site-packages/urllib3/__init__.py:35: NotOpenSSLWarning: urllib3 v2 only supports OpenSSL 1.1.1+, currently the 'ssl' module is compiled with 'LibreSSL 2.8.3'. See: https://github.com/urllib3/urllib3/issues/3020\n",
      "  warnings.warn(\n"
     ]
    }
   ],
   "source": [
    "import praw\n",
    "import pandas as pd"
   ]
  },
  {
   "cell_type": "code",
   "execution_count": 2,
   "metadata": {},
   "outputs": [],
   "source": [
    "user_agent = \"Scrapper 1.0 by /u/Low-Warning-3872\"\n",
    "reddit = praw.Reddit(\n",
    "    client_id=\"oCSZs-Bn8dFsqP6LCidwLw\",\n",
    "    client_secret=\"ncKdRHIl-lCgn8Nz3OtBx7y2AX2ALQ\",\n",
    "    user_agent=user_agent\n",
    "    )"
   ]
  },
  {
   "cell_type": "code",
   "execution_count": 3,
   "metadata": {},
   "outputs": [],
   "source": [
    "subreddits = ['wallstreetbets', 'stocks', 'StockMarket', 'Stocks_Picks','finance','InvestmentClub','StocksAndTrading','pennystocks','EducatedInvesting']"
   ]
  },
  {
   "cell_type": "code",
   "execution_count": 4,
   "metadata": {},
   "outputs": [],
   "source": [
    "import datetime\n",
    "\n",
    "headlines = []\n",
    "time_created_list = []\n",
    "\n",
    "for subreddit in subreddits:\n",
    "    for submission in reddit.subreddit(subreddit).new(limit=None):\n",
    "        time_created = datetime.datetime.fromtimestamp(submission.created_utc)\n",
    "        headline = submission.title\n",
    "        if headline not in headlines:\n",
    "            headlines.append(headline)\n",
    "            time_created_list.append(time_created)\n",
    "\n",
    "df = pd.DataFrame({\n",
    "    'Text': headlines,\n",
    "    'time_posted': time_created_list\n",
    "})"
   ]
  },
  {
   "cell_type": "code",
   "execution_count": 5,
   "metadata": {},
   "outputs": [
    {
     "data": {
      "text/plain": [
       "6341"
      ]
     },
     "execution_count": 5,
     "metadata": {},
     "output_type": "execute_result"
    }
   ],
   "source": [
    "len(df)"
   ]
  },
  {
   "cell_type": "code",
   "execution_count": 7,
   "metadata": {},
   "outputs": [],
   "source": [
    "df['date'] = pd.to_datetime(df['time_posted']).dt.date\n",
    "df['time'] = pd.to_datetime(df['time_posted']).dt.time"
   ]
  },
  {
   "cell_type": "code",
   "execution_count": 9,
   "metadata": {},
   "outputs": [],
   "source": [
    "df = df.drop(columns=['time_posted'])"
   ]
  },
  {
   "cell_type": "code",
   "execution_count": 10,
   "metadata": {},
   "outputs": [
    {
     "data": {
      "text/html": [
       "<div>\n",
       "<style scoped>\n",
       "    .dataframe tbody tr th:only-of-type {\n",
       "        vertical-align: middle;\n",
       "    }\n",
       "\n",
       "    .dataframe tbody tr th {\n",
       "        vertical-align: top;\n",
       "    }\n",
       "\n",
       "    .dataframe thead th {\n",
       "        text-align: right;\n",
       "    }\n",
       "</style>\n",
       "<table border=\"1\" class=\"dataframe\">\n",
       "  <thead>\n",
       "    <tr style=\"text-align: right;\">\n",
       "      <th></th>\n",
       "      <th>Text</th>\n",
       "      <th>date</th>\n",
       "      <th>time</th>\n",
       "    </tr>\n",
       "  </thead>\n",
       "  <tbody>\n",
       "    <tr>\n",
       "      <th>0</th>\n",
       "      <td>Message For Christopher DeVocht : Post Your Lo...</td>\n",
       "      <td>2024-10-05</td>\n",
       "      <td>10:16:24</td>\n",
       "    </tr>\n",
       "    <tr>\n",
       "      <th>1</th>\n",
       "      <td>🍀💎🤑</td>\n",
       "      <td>2024-10-05</td>\n",
       "      <td>10:08:45</td>\n",
       "    </tr>\n",
       "    <tr>\n",
       "      <th>2</th>\n",
       "      <td>Earnings for the coming week, 10/7~10/11/2024</td>\n",
       "      <td>2024-10-05</td>\n",
       "      <td>09:59:59</td>\n",
       "    </tr>\n",
       "    <tr>\n",
       "      <th>3</th>\n",
       "      <td>Carpenter claims he made $415 million on Tesla...</td>\n",
       "      <td>2024-10-05</td>\n",
       "      <td>08:47:32</td>\n",
       "    </tr>\n",
       "    <tr>\n",
       "      <th>4</th>\n",
       "      <td>Trump falsely touts endorsement from JP Morgan...</td>\n",
       "      <td>2024-10-05</td>\n",
       "      <td>08:44:09</td>\n",
       "    </tr>\n",
       "    <tr>\n",
       "      <th>5</th>\n",
       "      <td>Napkin math why Palantir (PLTR) will double fr...</td>\n",
       "      <td>2024-10-05</td>\n",
       "      <td>08:42:23</td>\n",
       "    </tr>\n",
       "    <tr>\n",
       "      <th>6</th>\n",
       "      <td>China Conviction Posting :)</td>\n",
       "      <td>2024-10-05</td>\n",
       "      <td>07:58:31</td>\n",
       "    </tr>\n",
       "    <tr>\n",
       "      <th>7</th>\n",
       "      <td>US CFTC seeks quick appeals hearing on electio...</td>\n",
       "      <td>2024-10-05</td>\n",
       "      <td>07:47:27</td>\n",
       "    </tr>\n",
       "    <tr>\n",
       "      <th>8</th>\n",
       "      <td>Google's NotebookLM Gets a Little Freaky on th...</td>\n",
       "      <td>2024-10-05</td>\n",
       "      <td>07:22:21</td>\n",
       "    </tr>\n",
       "    <tr>\n",
       "      <th>9</th>\n",
       "      <td>With just a little help from my friends</td>\n",
       "      <td>2024-10-05</td>\n",
       "      <td>07:19:59</td>\n",
       "    </tr>\n",
       "  </tbody>\n",
       "</table>\n",
       "</div>"
      ],
      "text/plain": [
       "                                                Text        date      time\n",
       "0  Message For Christopher DeVocht : Post Your Lo...  2024-10-05  10:16:24\n",
       "1                                                🍀💎🤑  2024-10-05  10:08:45\n",
       "2     Earnings for the coming week, 10/7~10/11/2024   2024-10-05  09:59:59\n",
       "3  Carpenter claims he made $415 million on Tesla...  2024-10-05  08:47:32\n",
       "4  Trump falsely touts endorsement from JP Morgan...  2024-10-05  08:44:09\n",
       "5  Napkin math why Palantir (PLTR) will double fr...  2024-10-05  08:42:23\n",
       "6                        China Conviction Posting :)  2024-10-05  07:58:31\n",
       "7  US CFTC seeks quick appeals hearing on electio...  2024-10-05  07:47:27\n",
       "8  Google's NotebookLM Gets a Little Freaky on th...  2024-10-05  07:22:21\n",
       "9            With just a little help from my friends  2024-10-05  07:19:59"
      ]
     },
     "execution_count": 10,
     "metadata": {},
     "output_type": "execute_result"
    }
   ],
   "source": [
    "df.head(10)"
   ]
  },
  {
   "cell_type": "code",
   "execution_count": 11,
   "metadata": {},
   "outputs": [],
   "source": [
    "df.to_csv('headlines.csv', encoding='utf-8', index=False)"
   ]
  },
  {
   "cell_type": "code",
   "execution_count": null,
   "metadata": {},
   "outputs": [],
   "source": []
  }
 ],
 "metadata": {
  "kernelspec": {
   "display_name": "Python 3",
   "language": "python",
   "name": "python3"
  },
  "language_info": {
   "codemirror_mode": {
    "name": "ipython",
    "version": 3
   },
   "file_extension": ".py",
   "mimetype": "text/x-python",
   "name": "python",
   "nbconvert_exporter": "python",
   "pygments_lexer": "ipython3",
   "version": "3.9.6"
  }
 },
 "nbformat": 4,
 "nbformat_minor": 2
}
